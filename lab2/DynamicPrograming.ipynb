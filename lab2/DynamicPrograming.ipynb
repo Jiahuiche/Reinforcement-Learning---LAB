{
  "cells": [
    {
      "cell_type": "code",
      "source": [
        "!pip install gymnasium"
      ],
      "metadata": {
        "colab": {
          "base_uri": "https://localhost:8080/"
        },
        "id": "GJkypxjIkAh6",
        "outputId": "9e3614fc-73c6-4ce4-9af8-f2ae1a3c9b1c"
      },
      "id": "GJkypxjIkAh6",
      "execution_count": 16,
      "outputs": [
        {
          "output_type": "stream",
          "name": "stdout",
          "text": [
            "Requirement already satisfied: gymnasium in /usr/local/lib/python3.10/dist-packages (0.29.1)\n",
            "Requirement already satisfied: numpy>=1.21.0 in /usr/local/lib/python3.10/dist-packages (from gymnasium) (1.23.5)\n",
            "Requirement already satisfied: cloudpickle>=1.2.0 in /usr/local/lib/python3.10/dist-packages (from gymnasium) (2.2.1)\n",
            "Requirement already satisfied: typing-extensions>=4.3.0 in /usr/local/lib/python3.10/dist-packages (from gymnasium) (4.7.1)\n",
            "Requirement already satisfied: farama-notifications>=0.0.1 in /usr/local/lib/python3.10/dist-packages (from gymnasium) (0.0.4)\n"
          ]
        }
      ]
    },
    {
      "cell_type": "code",
      "execution_count": 17,
      "id": "11ad405b",
      "metadata": {
        "id": "11ad405b"
      },
      "outputs": [],
      "source": [
        "import numpy as np\n",
        "from Grid import RussellGrid\n",
        "import matplotlib.pyplot as plt\n",
        "from utils import print_policy"
      ]
    },
    {
      "cell_type": "code",
      "execution_count": 18,
      "id": "67f21eae",
      "metadata": {
        "id": "67f21eae"
      },
      "outputs": [],
      "source": [
        "def init_value_function(env):\n",
        "    \"\"\" Returns a initialized value function array for given MDP.\"\"\"\n",
        "    return np.zeros((env.world_row,env.world_col))"
      ]
    },
    {
      "cell_type": "code",
      "execution_count": 19,
      "id": "0217f114",
      "metadata": {
        "id": "0217f114"
      },
      "outputs": [],
      "source": [
        "# Create and print random policy for valid states\n",
        "def create_random_policy(env):\n",
        "    \"\"\" Creates a random policy for valid states.\n",
        "    Arguments: MDP\n",
        "    Returns: policy\n",
        "    \"\"\"\n",
        "    policy = np.zeros((env.world_row,env.world_col))\n",
        "    state = np.nditer(env.map, flags=['multi_index'])\n",
        "    while not state.finished:\n",
        "        if state[0]==0:\n",
        "            policy[state.multi_index] = np.random.choice(4, 1)\n",
        "        state.iternext()\n",
        "\n",
        "    # Policy should be defined only for states where we should take decisions, so we set the policy\n",
        "    # for terminal and impossible states to -1 [not important but useful for printing the policy]\n",
        "    policy[0,3]=-1  # Special value for terminal state\n",
        "    policy[1,3]=-1  # Special value for terminal state\n",
        "    policy[1,1]=-1  # Not defined for non-valid states\n",
        "    return policy"
      ]
    },
    {
      "cell_type": "markdown",
      "source": [
        "### TASK 1\n",
        "\n",
        "Inner loop of Policy Evaluation (policy_evaluation_one_step)"
      ],
      "metadata": {
        "id": "Z7EwndblnBIj"
      },
      "id": "Z7EwndblnBIj"
    },
    {
      "cell_type": "code",
      "execution_count": 20,
      "id": "e65ac18a",
      "metadata": {
        "id": "e65ac18a"
      },
      "outputs": [],
      "source": [
        "def policy_evaluation_one_step(env, V, policy, gamma=0.99):\n",
        "    \"\"\" Computes one step of policy evaluation.\n",
        "    Arguments: MDP, value function, policy, discount factor\n",
        "    Returns: Value function of policy\n",
        "    \"\"\"\n",
        "    # Init value function array\n",
        "    V_new = V.copy()\n",
        "\n",
        "    # TODO: Write your implementation here\n",
        "    state = np.nditer(env.map, flags=['multi_index'])\n",
        "    while not state.finished:\n",
        "        acum=0\n",
        "        if env.map[state.multi_index]==0:\n",
        "            for p,next_state in env.P[state.multi_index][policy[state.multi_index]]:\n",
        "                acum = acum + p*(env.reward_matrix[next_state]+gamma*V[next_state])\n",
        "            V_new[state.multi_index] = acum\n",
        "        state.iternext()\n",
        "\n",
        "    return V_new"
      ]
    },
    {
      "cell_type": "markdown",
      "source": [
        "###TASK 2\n",
        "\n",
        "Policy evaluation"
      ],
      "metadata": {
        "id": "9x5Pq9McnHue"
      },
      "id": "9x5Pq9McnHue"
    },
    {
      "cell_type": "code",
      "execution_count": 21,
      "id": "881f5a4e",
      "metadata": {
        "id": "881f5a4e"
      },
      "outputs": [],
      "source": [
        "def policy_evaluation(env, policy, discount=0.99, theta=0.01):\n",
        "    \"\"\" Computes full policy evaluation until convergence.\n",
        "    Arguments: MDP, policy, discount factor, theta\n",
        "    Returns: Value function of policy\n",
        "    \"\"\"\n",
        "    # Init value function array\n",
        "    V = init_value_function(env)\n",
        "\n",
        "    # TODO: Write your implementation here\n",
        "    while True:\n",
        "        V_new = policy_evaluation_one_step(env, V, policy, gamma=discount)\n",
        "        if np.max(abs(V_new - V)) < theta:\n",
        "            break\n",
        "        V = V_new.copy()\n",
        "\n",
        "    return V_new.copy()"
      ]
    },
    {
      "cell_type": "markdown",
      "source": [
        "###TASK 3\n",
        "\n",
        "Policy improvement"
      ],
      "metadata": {
        "id": "Ox1dCmkrnTHL"
      },
      "id": "Ox1dCmkrnTHL"
    },
    {
      "cell_type": "code",
      "execution_count": 22,
      "id": "7cafebc4",
      "metadata": {
        "id": "7cafebc4"
      },
      "outputs": [],
      "source": [
        "#This is optional. You can help implement policy_improvement with the help of this function or not\n",
        "\n",
        "def greedy_action(env, V, state, gamma=0.99):\n",
        "    \"\"\" Computes greedy action w.r.t a given MDP, value function and State.\n",
        "    Arguments: MDP, value function, state\n",
        "    Returns: greedy action\n",
        "    \"\"\"\n",
        "    # TODO: Write your implementation here\n",
        "    acum=np.zeros(env.action_space.n)\n",
        "    for action in range(0,env.action_space.n):\n",
        "        for p,next_state in env.P[state.multi_index][action]:\n",
        "                acum[action] = acum[action] + p*(env.reward_matrix[next_state]+gamma*V[next_state])\n",
        "    return np.argmax(acum)"
      ]
    },
    {
      "cell_type": "code",
      "execution_count": 23,
      "id": "322aee65",
      "metadata": {
        "id": "322aee65"
      },
      "outputs": [],
      "source": [
        "def policy_improvement(env, V, discount=0.99):\n",
        "    \"\"\" Computes greedy policy w.r.t a given MDP and value function.\n",
        "    Arguments: MDP, value function, discount factor\n",
        "    Returns: policy\n",
        "    \"\"\"\n",
        "    # Initialize a policy array in which to save the greedy policy\n",
        "    policy_new = np.zeros((env.world_row,env.world_col))\n",
        "    # Policy should be defined only for states where we should take decisions, so we set the policy\n",
        "    # for terminal and impossible states to -1 [not important but useful for printing the policy]\n",
        "    policy_new[0,3]=-1  # Special value for terminal state\n",
        "    policy_new[1,3]=-1  # Special value for terminal state\n",
        "    policy_new[1,1]=-1  # Not defined for non-valid states\n",
        "\n",
        "    # TODO: Write your implementation here\n",
        "    state = np.nditer(env.map, flags=['multi_index'])\n",
        "    while not state.finished:\n",
        "        if env.map[state.multi_index]==0:\n",
        "            policy_new[state.multi_index] = greedy_action(env, V, state, discount)\n",
        "        state.iternext()\n",
        "\n",
        "    return policy_new"
      ]
    },
    {
      "cell_type": "markdown",
      "source": [
        "###TASK 4\n",
        "\n",
        "Policy iteration"
      ],
      "metadata": {
        "id": "qy4F_NBon1xr"
      },
      "id": "qy4F_NBon1xr"
    },
    {
      "cell_type": "code",
      "execution_count": 24,
      "id": "a0a70b42",
      "metadata": {
        "id": "a0a70b42"
      },
      "outputs": [],
      "source": [
        "def policy_iteration(env, discount=0.99, theta=0.01):\n",
        "    \"\"\" Computes the policy iteration (PI) algorithm.\n",
        "    Arguments: Env, discount factor, theta\n",
        "    Returns: value function, policy\n",
        "    \"\"\"\n",
        "\n",
        "    # Start from random policy\n",
        "    policy = create_random_policy(env)\n",
        "    print('Initial policy:')\n",
        "    print_policy(policy)\n",
        "    # And 0 Value function\n",
        "    V = init_value_function(env)\n",
        "\n",
        "    # TODO: Write your implementation here\n",
        "    # Enter the loop\n",
        "    unchanged = False\n",
        "\n",
        "    while not unchanged:\n",
        "        unchanged = True\n",
        "        # Policy evaluation step\n",
        "        V=policy_evaluation(env,policy,discount,theta)\n",
        "\n",
        "        # Policy improvement\n",
        "        policy_new = policy_improvement(env, V, discount=discount)\n",
        "\n",
        "        if not (policy_new == policy).all():\n",
        "            print('Update!')\n",
        "            print_policy(policy_new, V)\n",
        "            policy = policy_new.copy()\n",
        "            unchanged = False\n",
        "\n",
        "\n",
        "    return V, policy"
      ]
    },
    {
      "cell_type": "markdown",
      "source": [
        "###TASK 5\n",
        "\n",
        "Value iteration\n"
      ],
      "metadata": {
        "id": "O6WMuWGen6aL"
      },
      "id": "O6WMuWGen6aL"
    },
    {
      "cell_type": "code",
      "execution_count": 25,
      "id": "84fe48d8",
      "metadata": {
        "id": "84fe48d8"
      },
      "outputs": [],
      "source": [
        "def value_iteration(env, discount=0.99, theta=0.01):\n",
        "    \"\"\" Computes the value iteration (VI) algorithm.\n",
        "    Arguments: env, discount factor, theta\n",
        "    Returns: value function, policy\n",
        "    \"\"\"\n",
        "    # Init value function array\n",
        "    V = init_value_function(env)\n",
        "\n",
        "    # TODO: Write your implementation here\n",
        "    while True:\n",
        "        V_new = V.copy()\n",
        "\n",
        "        # TODO: Write your implementation here\n",
        "        state = np.nditer(env.map, flags=['multi_index'])\n",
        "        while not state.finished:\n",
        "            acum=0\n",
        "            if env.map[state.multi_index]==0:\n",
        "                acum=np.zeros(env.action_space.n)\n",
        "                for action in range(0,env.action_space.n):\n",
        "                    for p,next_state in env.P[state.multi_index][action]:\n",
        "                            acum[action] = acum[action] + p*(env.reward_matrix[next_state]+discount*V[next_state])\n",
        "                V_new[state.multi_index] = np.max(acum)\n",
        "            state.iternext()\n",
        "\n",
        "        if np.max(abs(V_new - V)) < theta:\n",
        "            break\n",
        "        V = V_new.copy()\n",
        "\n",
        "    # Get the greedy policy w.r.t the calculated value function\n",
        "    policy = policy_improvement(env, V)\n",
        "\n",
        "    return V_new, policy"
      ]
    },
    {
      "cell_type": "code",
      "execution_count": 25,
      "id": "f76b089a",
      "metadata": {
        "id": "f76b089a"
      },
      "outputs": [],
      "source": []
    },
    {
      "cell_type": "code",
      "execution_count": 26,
      "id": "67c956b0",
      "metadata": {
        "colab": {
          "base_uri": "https://localhost:8080/",
          "height": 1000
        },
        "id": "67c956b0",
        "outputId": "0d560b02-dd4f-4b00-e1c3-8316de440ab0"
      },
      "outputs": [
        {
          "output_type": "stream",
          "name": "stdout",
          "text": [
            "-----------------\n",
            "Policy iteration:\n",
            "-----------------\n",
            "Initial policy:\n"
          ]
        },
        {
          "output_type": "display_data",
          "data": {
            "text/plain": [
              "<Figure size 400x300 with 1 Axes>"
            ],
            "image/png": "[encoded data removed]"
          },
          "metadata": {}
        },
        {
          "output_type": "display_data",
          "data": {
            "text/plain": [
              "<Figure size 400x300 with 1 Axes>"
            ],
            "image/png": "[encoded data removed]"
          },
          "metadata": {}
        },
        {
          "output_type": "stream",
          "name": "stdout",
          "text": [
            "Update!\n"
          ]
        },
        {
          "output_type": "display_data",
          "data": {
            "text/plain": [
              "<Figure size 400x300 with 1 Axes>"
            ],
            "image/png": "[encoded data removed]"
          },
          "metadata": {}
        },
        {
          "output_type": "stream",
          "name": "stdout",
          "text": [
            "Update!\n"
          ]
        },
        {
          "output_type": "display_data",
          "data": {
            "text/plain": [
              "<Figure size 400x300 with 1 Axes>"
            ],
            "image/png": "[encoded data removed]"
          },
          "metadata": {}
        },
        {
          "output_type": "stream",
          "name": "stdout",
          "text": [
            "Update!\n"
          ]
        },
        {
          "output_type": "display_data",
          "data": {
            "text/plain": [
              "<Figure size 400x300 with 1 Axes>"
            ],
            "image/png": "[encoded data removed]"
          },
          "metadata": {}
        },
        {
          "output_type": "stream",
          "name": "stdout",
          "text": [
            "Update!\n"
          ]
        },
        {
          "output_type": "display_data",
          "data": {
            "text/plain": [
              "<Figure size 400x300 with 1 Axes>"
            ],
            "image/png": "[encoded data removed]"
          },
          "metadata": {}
        },
        {
          "output_type": "stream",
          "name": "stdout",
          "text": [
            "Update!\n"
          ]
        },
        {
          "output_type": "display_data",
          "data": {
            "text/plain": [
              "<Figure size 400x300 with 1 Axes>"
            ],
            "image/png": "[encoded data removed]"
          },
          "metadata": {}
        },
        {
          "output_type": "stream",
          "name": "stdout",
          "text": [
            "Update!\n"
          ]
        },
        {
          "output_type": "display_data",
          "data": {
            "text/plain": [
              "<Figure size 400x300 with 1 Axes>"
            ],
            "image/png": "[encoded data removed]"
          },
          "metadata": {}
        },
        {
          "output_type": "display_data",
          "data": {
            "text/plain": [
              "<Figure size 400x300 with 1 Axes>"
            ],
            "image/png": "[encoded data removed]"
          },
          "metadata": {}
        },
        {
          "output_type": "stream",
          "name": "stdout",
          "text": [
            "---------------\n",
            "Value iteration\n",
            "---------------\n"
          ]
        },
        {
          "output_type": "display_data",
          "data": {
            "text/plain": [
              "<Figure size 400x300 with 1 Axes>"
            ],
            "image/png": "[encoded data removed]"
          },
          "metadata": {}
        },
        {
          "output_type": "stream",
          "name": "stdout",
          "text": [
            "Value function:\n",
            "[[0.82421144 0.89285567 0.95464048 0.        ]\n",
            " [0.7635802  0.         0.68820424 0.        ]\n",
            " [0.69391207 0.62966708 0.60366862 0.37771081]]\n"
          ]
        }
      ],
      "source": [
        "if __name__ == \"__main__\":\n",
        "    # Create the MDP\n",
        "    env = RussellGrid(mode='movie')\n",
        "    discount = 0.99\n",
        "    theta = 0.01\n",
        "\n",
        "    # Do a full PI and print\n",
        "    print('-----------------')\n",
        "    print('Policy iteration:')\n",
        "    print('-----------------')\n",
        "    V, policy = policy_iteration(env, discount=discount, theta=theta)\n",
        "    print_policy(policy, V)\n",
        "\n",
        "    # Do a full VI and print\n",
        "    print('---------------')\n",
        "    print('Value iteration')\n",
        "    print('---------------')\n",
        "    V, policy = value_iteration(env, discount=discount, theta=theta)\n",
        "    print_policy(policy, V)\n",
        "    print('Value function:')\n",
        "    print(V)"
      ]
    }
  ],
  "metadata": {
    "jupytext": {
      "cell_metadata_filter": "-all",
      "main_language": "python",
      "notebook_metadata_filter": "-all"
    },
    "language_info": {
      "name": "python"
    },
    "colab": {
      "provenance": []
    },
    "kernelspec": {
      "name": "python3",
      "display_name": "Python 3"
    }
  },
  "nbformat": 4,
  "nbformat_minor": 5
}